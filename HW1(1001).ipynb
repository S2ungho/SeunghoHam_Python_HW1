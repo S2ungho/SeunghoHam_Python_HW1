{
 "cells": [
  {
   "cell_type": "code",
   "execution_count": 44,
   "id": "3fbd4a02",
   "metadata": {},
   "outputs": [
    {
     "name": "stdout",
     "output_type": "stream",
     "text": [
      "선택하세요(1: 추가, 2: 삭제, 3:종료)--> 1\n",
      "추가할 데이터-->(\"다현\",200)\n",
      "[('다현', 200)]\n",
      "선택하세요(1: 추가, 2: 삭제, 3:종료)--> 1\n",
      "추가할 데이터-->(\"정연\",150)\n",
      "[('다현', 200), ('정연', 150)]\n",
      "선택하세요(1: 추가, 2: 삭제, 3:종료)--> 1\n",
      "추가할 데이터-->(\"모모\",170)\n",
      "[('다현', 200), ('모모', 170), ('정연', 150)]\n",
      "선택하세요(1: 추가, 2: 삭제, 3:종료)--> 2\n",
      "삭제할 순서-->2\n",
      "[('다현', 200), ('정연', 150)]\n",
      "선택하세요(1: 추가, 2: 삭제, 3:종료)--> 2\n",
      "삭제할 순서-->3\n",
      "삭제할 데이터가 존재하지 않습니다.\n",
      "선택하세요(1: 추가, 2: 삭제, 3:종료)--> 3\n"
     ]
    }
   ],
   "source": [
    "def add_data(friend):\n",
    "    katok.append(None)\n",
    "    kLen=len(katok)\n",
    "    katok[kLen-1]=friend\n",
    "    \n",
    "def delete_data(position):\n",
    "    if position<0 or position>len(katok):\n",
    "        print(\"삭제할 데이터가 존재하지 않습니다.\")\n",
    "        return\n",
    "    \n",
    "    kLen=len(katok)\n",
    "    katok[position-1]=None\n",
    "    for i in range(position,kLen):\n",
    "        katok[i-1]=katok[i]\n",
    "        katok[i]=None\n",
    "        \n",
    "    del(katok[kLen-1])\n",
    "    \n",
    "    print(katok)\n",
    "    \n",
    "    \n",
    "select = 0  \n",
    "katok = []\n",
    "\n",
    "if __name__==\"__main__\":\n",
    "    while (select!=3):\n",
    "        select=int(input(\"선택하세요(1: 추가, 2: 삭제, 3:종료)--> \"))\n",
    "        if select==1:\n",
    "            data=eval(input(\"추가할 데이터-->\")) \n",
    "            add_data(data)\n",
    "            for i in range(len(katok),1,-1):\n",
    "                if katok[i-1][1] > katok[i-2][1]:\n",
    "                    st = katok[i-2]\n",
    "                    katok[i-2] = katok[i-1]\n",
    "                    katok[i-1] = st\n",
    "                    \n",
    "            print(katok)\n",
    "            \n",
    "        elif select==2:\n",
    "            pos=int(input(\"삭제할 순서-->\")) \n",
    "            delete_data(pos) \n",
    "                \n",
    "        elif select==3:\n",
    "            break;\n",
    "\n",
    "        else:\n",
    "            print(\"1~3 중 하나를 입력하세요\")"
   ]
  }
 ],
 "metadata": {
  "kernelspec": {
   "display_name": "Python 3 (ipykernel)",
   "language": "python",
   "name": "python3"
  },
  "language_info": {
   "codemirror_mode": {
    "name": "ipython",
    "version": 3
   },
   "file_extension": ".py",
   "mimetype": "text/x-python",
   "name": "python",
   "nbconvert_exporter": "python",
   "pygments_lexer": "ipython3",
   "version": "3.9.12"
  }
 },
 "nbformat": 4,
 "nbformat_minor": 5
}
